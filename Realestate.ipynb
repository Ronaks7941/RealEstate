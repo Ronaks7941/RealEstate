{
  "nbformat": 4,
  "nbformat_minor": 0,
  "metadata": {
    "colab": {
      "provenance": [],
      "toc_visible": true
    },
    "kernelspec": {
      "name": "python3",
      "display_name": "Python 3"
    },
    "language_info": {
      "name": "python"
    }
  },
  "cells": [
    {
      "cell_type": "code",
      "source": [
        "import pandas as pd\n",
        "from sklearn.model_selection import train_test_split\n",
        "from sklearn.linear_model import LinearRegression\n",
        "from sklearn.metrics import mean_squared_error, mean_absolute_error\n",
        "import numpy as np\n",
        "\n",
        "# Load the dataset (replace 'Real estate.csv' with your actual file path)\n",
        "data = pd.read_csv('/content/Real estate.csv')\n",
        "\n",
        "# Assuming the dataset has columns for features (X) and target (y)\n",
        "# Replace 'feature_column' and 'target_column' with actual column names\n",
        "feature_column = 'Y house price of unit area'\n",
        "target_column = 'X4 number of convenience stores'\n",
        "\n",
        "# Extract features (X) and target (y)\n",
        "X = data[[feature_column]]\n",
        "y = data[target_column]\n",
        "\n",
        "# Split the data into training and testing sets\n",
        "X_train, X_test, y_train, y_test = train_test_split(X, y, test_size=0.2, random_state=42)\n",
        "\n",
        "# Create and fit the linear regression model\n",
        "model = LinearRegression()\n",
        "model.fit(X_train, y_train)\n",
        "\n",
        "# Make predictions\n",
        "predictions = model.predict(X_test)\n",
        "\n",
        "# Calculate evaluation metrics\n",
        "mse = mean_squared_error(y_test, predictions)\n",
        "mae = mean_absolute_error(y_test, predictions)\n",
        "rmse = np.sqrt(mse)\n",
        "\n",
        "# Print the evaluation metrics\n",
        "print(\"Mean Squared Error (MSE):\", mse)\n",
        "print(\"Mean Absolute Error (MAE):\", mae)\n",
        "print(\"Root Mean Squared Error (RMSE):\", rmse)\n"
      ],
      "metadata": {
        "colab": {
          "base_uri": "https://localhost:8080/"
        },
        "id": "N47j1SQilLjs",
        "outputId": "9676bf48-6786-45ea-da5b-af070e726724"
      },
      "execution_count": 8,
      "outputs": [
        {
          "output_type": "stream",
          "name": "stdout",
          "text": [
            "Mean Squared Error (MSE): 5.0828604868887775\n",
            "Mean Absolute Error (MAE): 1.739031482695847\n",
            "Root Mean Squared Error (RMSE): 2.2545200125278946\n"
          ]
        }
      ]
    }
  ]
}